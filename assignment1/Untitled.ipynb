{
 "cells": [
  {
   "cell_type": "markdown",
   "metadata": {},
   "source": [
    "# directed graph cycle"
   ]
  },
  {
   "cell_type": "code",
   "execution_count": 26,
   "metadata": {
    "collapsed": true
   },
   "outputs": [],
   "source": [
    "class Solution(object):\n",
    "    def __init__(self):\n",
    "        self.flag = False\n",
    "    def detect_cycle(self, G):\n",
    "        for v in G:\n",
    "            if self.flag:\n",
    "                break\n",
    "            self.dfs(G,v,[])\n",
    "        return self.flag\n",
    "    def dfs(self,G,v,seen):\n",
    "        if v in seen:\n",
    "            self.flag = True\n",
    "            return \n",
    "        if self.flag:\n",
    "            return\n",
    "        for vi in G[v]:\n",
    "            self.dfs(G,vi,seen+[v])"
   ]
  },
  {
   "cell_type": "code",
   "execution_count": 27,
   "metadata": {
    "collapsed": false
   },
   "outputs": [
    {
     "name": "stdout",
     "output_type": "stream",
     "text": [
      "Graph1 has a cycle.\n",
      "Graph2 has a cycle.\n",
      "Graph3 has no cycle.\n",
      "Graph4 has no cycle.\n",
      "\n",
      "Algorithm passed all test cases\n"
     ]
    }
   ],
   "source": [
    "# connected graph with cycle\n",
    "q = Solution()\n",
    "graph1 = { 0 : [1, 2],\n",
    "           1 : [],\n",
    "           2 : [3],\n",
    "           3 : [4],\n",
    "           4 : [2] }\n",
    "assert(q.detect_cycle(graph1) == True)\n",
    "print(\"Graph1 has a cycle.\")\n",
    " \n",
    "#----------------------------------------------------\n",
    " \n",
    "# disconnected graph with cycle\n",
    "q = Solution()\n",
    "graph2 = { 0 : [],\n",
    "           1 : [2],\n",
    "           2 : [],  \n",
    "           3 : [4],\n",
    "           4 : [5],\n",
    "           5 : [3] }\n",
    "assert(q.detect_cycle(graph2) == True)\n",
    "print(\"Graph2 has a cycle.\")\n",
    " \n",
    "#----------------------------------------------------\n",
    " \n",
    "# disconnected graph without a cycle\n",
    "q = Solution()\n",
    "graph3 = { 0 : [],\n",
    "           1 : [],\n",
    "           2 : [],\n",
    "           3 : [] }\n",
    "assert(q.detect_cycle(graph3) == False)\n",
    "print(\"Graph3 has no cycle.\")\n",
    " \n",
    "#----------------------------------------------------\n",
    " \n",
    "# disconnected graph without a cycle\n",
    "q = Solution()\n",
    "graph4 = { 0 : [1, 2],\n",
    "           1 : [3, 4],\n",
    "           2 : [],\n",
    "           3 : [],\n",
    "           4 : [],\n",
    "           5 : [6, 7],\n",
    "           6 : [],\n",
    "           7 : [] }\n",
    "assert(q.detect_cycle(graph4) == False)           \n",
    "print(\"Graph4 has no cycle.\")\n",
    " \n",
    "#----------------------------------------------------\n",
    " \n",
    "# If assert raises an error, then a test case was not passed.\n",
    "print(\"\\nAlgorithm passed all test cases\")"
   ]
  },
  {
   "cell_type": "markdown",
   "metadata": {},
   "source": [
    "# Test"
   ]
  },
  {
   "cell_type": "code",
   "execution_count": null,
   "metadata": {
    "collapsed": true
   },
   "outputs": [],
   "source": [
    "from sklearn.linear_model import LinearRegression()"
   ]
  },
  {
   "cell_type": "code",
   "execution_count": 161,
   "metadata": {
    "collapsed": true
   },
   "outputs": [],
   "source": [
    "# Definition for singly-linked list.\n",
    "# class ListNode(object):\n",
    "#     def __init__(self, x):\n",
    "#         self.val = x\n",
    "#         self.next = None\n",
    "\n",
    "class Solution(object):\n",
    "    def mergeTwoLists(self, l1, l2):\n",
    "        \"\"\"\n",
    "        :type l1: ListNode\n",
    "        :type l2: ListNode\n",
    "        :rtype: ListNode\n",
    "        \"\"\"\n",
    "        "
   ]
  }
 ],
 "metadata": {
  "kernelspec": {
   "display_name": "Python 2",
   "language": "python",
   "name": "python2"
  },
  "language_info": {
   "codemirror_mode": {
    "name": "ipython",
    "version": 2
   },
   "file_extension": ".py",
   "mimetype": "text/x-python",
   "name": "python",
   "nbconvert_exporter": "python",
   "pygments_lexer": "ipython2",
   "version": "2.7.12"
  }
 },
 "nbformat": 4,
 "nbformat_minor": 1
}
